{
 "cells": [
  {
   "cell_type": "code",
   "execution_count": 4,
   "id": "36dab720",
   "metadata": {},
   "outputs": [],
   "source": [
    "import sqlite3"
   ]
  },
  {
   "cell_type": "code",
   "execution_count": 29,
   "id": "16f6743c",
   "metadata": {},
   "outputs": [
    {
     "data": {
      "text/plain": [
       "<sqlite3.Cursor at 0x277128fe260>"
      ]
     },
     "execution_count": 29,
     "metadata": {},
     "output_type": "execute_result"
    }
   ],
   "source": [
    "conn = sqlite3.connect('words.db')\n",
    "c = conn.cursor()\n",
    "c.execute(\"\"\"CREATE TABLE words\n",
    "(word_id integer NOT NULL,\n",
    "word text,\n",
    "sructure text,\n",
    "part_of_speech NOT NULL DEFAULT 'noun')\n",
    "\"\"\")"
   ]
  },
  {
   "cell_type": "code",
   "execution_count": 30,
   "id": "3fcf35ba",
   "metadata": {},
   "outputs": [],
   "source": [
    "c.execute(\"\"\"INSERT INTO words VALUES (1, 'table', 'R0F4', 'noun'),\n",
    "             (4, 'eat', 'W1Y5', 'verb'),\n",
    "             (2, 'attractive', 'N9X0', 'adjective'),\n",
    "             (7, 'bed', 'R5H3', 'noun'),\n",
    "             (3, 'slowly', 'M7O9', 'adverb'),\n",
    "             (9, 'drink', 'N7P3', 'verb')\"\"\")\n",
    "conn.commit()"
   ]
  },
  {
   "cell_type": "code",
   "execution_count": 27,
   "id": "1d25331a",
   "metadata": {},
   "outputs": [
    {
     "name": "stdout",
     "output_type": "stream",
     "text": [
      "(1, 'table', 'R0F4', 'noun')\n",
      "(4, 'eat', 'W1Y5', 'verb')\n",
      "(2, 'attractive', 'N9X0', 'adjective')\n",
      "(7, 'bed', 'R5H3', 'noun')\n",
      "(3, 'slowly', 'M7O9', 'adverb')\n",
      "(9, 'drink', 'N7P3', 'verb')\n"
     ]
    }
   ],
   "source": [
    "for row in c.execute('SELECT * FROM words'):\n",
    "    print(row)"
   ]
  },
  {
   "cell_type": "code",
   "execution_count": 28,
   "id": "caeb072a",
   "metadata": {},
   "outputs": [
    {
     "name": "stdout",
     "output_type": "stream",
     "text": [
      "('table',)\n",
      "('slowly',)\n",
      "('eat',)\n",
      "('drink',)\n",
      "('bed',)\n",
      "('attractive',)\n"
     ]
    }
   ],
   "source": [
    "sql1 = 'SELECT word FROM words ORDER BY word DESC'\n",
    "for row in c.execute(sql1):\n",
    "    print(row)"
   ]
  },
  {
   "cell_type": "code",
   "execution_count": 33,
   "id": "09445d8d",
   "metadata": {},
   "outputs": [
    {
     "name": "stdout",
     "output_type": "stream",
     "text": [
      "('eat',)\n",
      "('drink',)\n"
     ]
    }
   ],
   "source": [
    "sql2 = 'SELECT word FROM words WHERE part_of_speech = \"verb\"'\n",
    "for row in c.execute(sql2):\n",
    "    print(row)"
   ]
  },
  {
   "cell_type": "code",
   "execution_count": 34,
   "id": "66e35bb2",
   "metadata": {},
   "outputs": [
    {
     "name": "stdout",
     "output_type": "stream",
     "text": [
      "(1, 'table', 'R0F4', 'noun')\n",
      "(7, 'bed', 'R5H3', 'noun')\n"
     ]
    }
   ],
   "source": [
    "sql3 = 'SELECT * FROM words WHERE part_of_speech LIKE \"n%\"'\n",
    "for row in c.execute(sql3):\n",
    "    print(row)"
   ]
  }
 ],
 "metadata": {
  "kernelspec": {
   "display_name": "Python 3 (ipykernel)",
   "language": "python",
   "name": "python3"
  },
  "language_info": {
   "codemirror_mode": {
    "name": "ipython",
    "version": 3
   },
   "file_extension": ".py",
   "mimetype": "text/x-python",
   "name": "python",
   "nbconvert_exporter": "python",
   "pygments_lexer": "ipython3",
   "version": "3.8.12"
  }
 },
 "nbformat": 4,
 "nbformat_minor": 5
}
